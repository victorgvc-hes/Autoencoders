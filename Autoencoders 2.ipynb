{
 "cells": [
  {
   "cell_type": "markdown",
   "metadata": {},
   "source": [
    "## Autoencoders 2\n",
    "### Building a denoising autoencider using Keras API. We demonstrate that noise is successfully removed by passing several images of handwritten digits with added noise using different layers and a sparsity of 10%, 20% and 30%."
   ]
  },
  {
   "cell_type": "markdown",
   "metadata": {},
   "source": [
    "### Basic sets"
   ]
  },
  {
   "cell_type": "code",
   "execution_count": 1,
   "metadata": {},
   "outputs": [
    {
     "name": "stderr",
     "output_type": "stream",
     "text": [
      "C:\\Users\\Victor\\Anaconda3\\lib\\site-packages\\h5py\\__init__.py:36: FutureWarning: Conversion of the second argument of issubdtype from `float` to `np.floating` is deprecated. In future, it will be treated as `np.float64 == np.dtype(float).type`.\n",
      "  from ._conv import register_converters as _register_converters\n",
      "Using TensorFlow backend.\n"
     ]
    }
   ],
   "source": [
    "import keras\n",
    "from keras.layers import Input, Dense\n",
    "from keras.models import Model\n",
    "\n",
    "# this is the size of our encoded representations\n",
    "encoding_dim = 32  # 32 floats -> compression of factor 24.5, assuming the input is 784 floats\n",
    "\n",
    "# this is our input placeholder\n",
    "input_img = Input(shape=(784,))\n",
    "# \"encoded\" is the encoded representation of the input\n",
    "encoded = Dense(encoding_dim, activation='relu')(input_img)\n",
    "# \"decoded\" is the lossy reconstruction of the input\n",
    "decoded = Dense(784, activation='sigmoid')(encoded)\n",
    "\n",
    "# this model maps an input to its reconstruction\n",
    "autoencoder = Model(input_img, decoded)"
   ]
  },
  {
   "cell_type": "code",
   "execution_count": 2,
   "metadata": {},
   "outputs": [],
   "source": [
    "# this model maps an input to its encoded representation\n",
    "encoder = Model(input_img, encoded)"
   ]
  },
  {
   "cell_type": "code",
   "execution_count": 3,
   "metadata": {},
   "outputs": [],
   "source": [
    "# create a placeholder for an encoded (32-dimensional) input\n",
    "encoded_input = Input(shape=(encoding_dim,))\n",
    "# retrieve the last layer of the autoencoder model\n",
    "decoder_layer = autoencoder.layers[-1]\n",
    "# create the decoder model\n",
    "decoder = Model(encoded_input, decoder_layer(encoded_input))"
   ]
  },
  {
   "cell_type": "code",
   "execution_count": 4,
   "metadata": {},
   "outputs": [],
   "source": [
    "autoencoder.compile(optimizer='adadelta', loss='binary_crossentropy')"
   ]
  },
  {
   "cell_type": "markdown",
   "metadata": {},
   "source": [
    "### Loading the data:"
   ]
  },
  {
   "cell_type": "code",
   "execution_count": 5,
   "metadata": {},
   "outputs": [],
   "source": [
    "from keras.datasets import mnist\n",
    "import numpy as np\n",
    "(x_train, _), (x_test, _) = mnist.load_data()"
   ]
  },
  {
   "cell_type": "code",
   "execution_count": 6,
   "metadata": {},
   "outputs": [
    {
     "name": "stdout",
     "output_type": "stream",
     "text": [
      "(60000, 784)\n",
      "(10000, 784)\n"
     ]
    }
   ],
   "source": [
    "x_train = x_train.astype('float32') / 255.\n",
    "x_test = x_test.astype('float32') / 255.\n",
    "x_train = x_train.reshape((len(x_train), np.prod(x_train.shape[1:])))\n",
    "x_test = x_test.reshape((len(x_test), np.prod(x_test.shape[1:])))\n",
    "print (x_train.shape)\n",
    "print (x_test.shape)"
   ]
  },
  {
   "cell_type": "markdown",
   "metadata": {},
   "source": [
    "### Creating the network"
   ]
  },
  {
   "cell_type": "code",
   "execution_count": 7,
   "metadata": {},
   "outputs": [],
   "source": [
    "from keras.layers import Input, Dense, Conv2D, MaxPooling2D, UpSampling2D\n",
    "from keras.models import Model\n",
    "from keras import backend as K\n",
    "\n",
    "input_img = Input(shape=(28, 28, 1))  # adapt this if using `channels_first` image data format\n",
    "\n",
    "x = Conv2D(16, (3, 3), activation='relu', padding='same')(input_img)\n",
    "x = MaxPooling2D((2, 2), padding='same')(x)\n",
    "x = Conv2D(8, (3, 3), activation='relu', padding='same')(x)\n",
    "x = MaxPooling2D((2, 2), padding='same')(x)\n",
    "x = Conv2D(8, (3, 3), activation='relu', padding='same')(x)\n",
    "encoded = MaxPooling2D((2, 2), padding='same')(x)\n",
    "encoder = Model(input_img,encoded)\n",
    "\n",
    "# at this point the representation is (4, 4, 8) i.e. 128-dimensional\n",
    "\n",
    "x = Conv2D(8, (3, 3), activation='relu', padding='same')(encoded)\n",
    "x = UpSampling2D((2, 2))(x)\n",
    "x = Conv2D(8, (3, 3), activation='relu', padding='same')(x)\n",
    "x = UpSampling2D((2, 2))(x)\n",
    "x = Conv2D(16, (3, 3), activation='relu')(x)\n",
    "x = UpSampling2D((2, 2))(x)\n",
    "decoded = Conv2D(1, (3, 3), activation='sigmoid', padding='same')(x)\n",
    "\n",
    "autoencoder = Model(input_img, decoded)\n",
    "autoencoder.compile(optimizer='adadelta', loss='binary_crossentropy')"
   ]
  },
  {
   "cell_type": "markdown",
   "metadata": {},
   "source": [
    "### Setting sparsity:"
   ]
  },
  {
   "cell_type": "code",
   "execution_count": 8,
   "metadata": {},
   "outputs": [],
   "source": [
    "from keras import regularizers\n",
    "\n",
    "encoding_dim = 64\n",
    "\n",
    "input_img = Input(shape=(784,))\n",
    "# add a Dense layer with a L1 activity regularizer\n",
    "encoded = Dense(encoding_dim, activation='relu',\n",
    "                activity_regularizer=regularizers.l1(3.0))(input_img)\n",
    "#encoder = Model(input_img,encoded)\n",
    "decoded = Dense(784, activation='sigmoid')(encoded)\n",
    "\n",
    "autoencoder = Model(input_img, decoded)\n"
   ]
  },
  {
   "cell_type": "code",
   "execution_count": 9,
   "metadata": {},
   "outputs": [],
   "source": [
    "autoencoder.compile(optimizer='adadelta', loss='binary_crossentropy')"
   ]
  },
  {
   "cell_type": "markdown",
   "metadata": {},
   "source": [
    "### Adding noise and presenting the images:"
   ]
  },
  {
   "cell_type": "code",
   "execution_count": 10,
   "metadata": {},
   "outputs": [],
   "source": [
    "from keras.datasets import mnist\n",
    "import numpy as np\n",
    "\n",
    "(x_train, _), (x_test, _) = mnist.load_data()\n",
    "\n",
    "x_train = x_train.astype('float32') / 255.\n",
    "x_test = x_test.astype('float32') / 255.\n",
    "x_train = np.reshape(x_train, (len(x_train), 28, 28, 1))  # adapt this if using `channels_first` image data format\n",
    "x_test = np.reshape(x_test, (len(x_test), 28, 28, 1))  # adapt this if using `channels_first` image data format\n",
    "\n",
    "noise_factor = 0.5\n",
    "x_train_noisy = x_train + noise_factor * np.random.normal(loc=0.0, scale=1.0, size=x_train.shape) \n",
    "x_test_noisy = x_test + noise_factor * np.random.normal(loc=0.0, scale=1.0, size=x_test.shape) \n",
    "\n",
    "x_train_noisy = np.clip(x_train_noisy, 0., 1.)\n",
    "x_test_noisy = np.clip(x_test_noisy, 0., 1.)"
   ]
  },
  {
   "cell_type": "code",
   "execution_count": 11,
   "metadata": {},
   "outputs": [
    {
     "data": {
      "image/png": "[encoded data removed]",
      "text/plain": [
       "<matplotlib.figure.Figure at 0x2b1c53172e8>"
      ]
     },
     "metadata": {},
     "output_type": "display_data"
    }
   ],
   "source": [
    "# use Matplotlib\n",
    "import matplotlib.pyplot as plt\n",
    "%matplotlib inline\n",
    "n = 10\n",
    "plt.figure(figsize=(20, 2))\n",
    "for i in range(1,n,1):\n",
    "    ax = plt.subplot(1, n, i)\n",
    "    plt.imshow(x_test_noisy[i].reshape(28, 28))\n",
    "    plt.gray()\n",
    "    ax.get_xaxis().set_visible(False)\n",
    "    ax.get_yaxis().set_visible(False)\n",
    "plt.show()"
   ]
  },
  {
   "cell_type": "code",
   "execution_count": 12,
   "metadata": {},
   "outputs": [],
   "source": [
    "input_img = Input(shape=(28, 28, 1))  # adapt this if using `channels_first` image data format\n",
    "\n",
    "x = Conv2D(32, (3, 3), activation='relu', padding='same')(input_img)\n",
    "x = MaxPooling2D((2, 2), padding='same')(x)\n",
    "x = Conv2D(32, (3, 3), activation='relu', padding='same')(x)\n",
    "encoded = MaxPooling2D((2, 2), padding='same')(x)\n",
    "\n",
    "# at this point the representation is (7, 7, 32)\n",
    "\n",
    "x = Conv2D(32, (3, 3), activation='relu', padding='same')(encoded)\n",
    "x = UpSampling2D((2, 2))(x)\n",
    "x = Conv2D(32, (3, 3), activation='relu', padding='same')(x)\n",
    "x = UpSampling2D((2, 2))(x)\n",
    "decoded = Conv2D(1, (3, 3), activation='sigmoid', padding='same')(x)\n",
    "\n",
    "autoencoder = Model(input_img, decoded)\n",
    "autoencoder.compile(optimizer='adadelta', loss='binary_crossentropy')"
   ]
  },
  {
   "cell_type": "markdown",
   "metadata": {},
   "source": [
    "### Training the network:"
   ]
  },
  {
   "cell_type": "code",
   "execution_count": 13,
   "metadata": {},
   "outputs": [
    {
     "name": "stdout",
     "output_type": "stream",
     "text": [
      "Train on 60000 samples, validate on 10000 samples\n",
      "Epoch 1/100\n",
      "60000/60000 [==============================] - 323s 5ms/step - loss: 0.1996 - val_loss: 0.1418\n",
      "Epoch 2/100\n",
      "60000/60000 [==============================] - 296s 5ms/step - loss: 0.1351 - val_loss: 0.1286\n",
      "Epoch 3/100\n",
      "60000/60000 [==============================] - 296s 5ms/step - loss: 0.1277 - val_loss: 0.1245\n",
      "Epoch 4/100\n",
      "60000/60000 [==============================] - 300s 5ms/step - loss: 0.1270 - val_loss: 0.1211\n",
      "Epoch 5/100\n",
      "60000/60000 [==============================] - 298s 5ms/step - loss: 0.1219 - val_loss: 0.1246\n",
      "Epoch 6/100\n",
      "60000/60000 [==============================] - 297s 5ms/step - loss: 0.1204 - val_loss: 0.1211\n",
      "Epoch 7/100\n",
      "60000/60000 [==============================] - 297s 5ms/step - loss: 0.1189 - val_loss: 0.1188\n",
      "Epoch 8/100\n",
      "60000/60000 [==============================] - 298s 5ms/step - loss: 0.1198 - val_loss: 0.1143\n",
      "Epoch 9/100\n",
      "60000/60000 [==============================] - 296s 5ms/step - loss: 0.1180 - val_loss: 0.1232\n",
      "Epoch 10/100\n",
      "60000/60000 [==============================] - 298s 5ms/step - loss: 0.1175 - val_loss: 0.1140\n",
      "Epoch 11/100\n",
      "60000/60000 [==============================] - 298s 5ms/step - loss: 0.1185 - val_loss: 0.1171\n",
      "Epoch 12/100\n",
      "60000/60000 [==============================] - 298s 5ms/step - loss: 0.1182 - val_loss: 0.1135\n",
      "Epoch 13/100\n",
      "60000/60000 [==============================] - 299s 5ms/step - loss: 0.1185 - val_loss: 0.1129\n",
      "Epoch 14/100\n",
      "60000/60000 [==============================] - 298s 5ms/step - loss: 0.1160 - val_loss: 0.1097\n",
      "Epoch 15/100\n",
      "60000/60000 [==============================] - 298s 5ms/step - loss: 0.1186 - val_loss: 0.1168\n",
      "Epoch 16/100\n",
      "60000/60000 [==============================] - 297s 5ms/step - loss: 0.1351 - val_loss: 0.1255\n",
      "Epoch 17/100\n",
      "60000/60000 [==============================] - 298s 5ms/step - loss: 0.1184 - val_loss: 0.1129\n",
      "Epoch 18/100\n",
      "60000/60000 [==============================] - 297s 5ms/step - loss: 0.1187 - val_loss: 0.1161\n",
      "Epoch 19/100\n",
      "60000/60000 [==============================] - 298s 5ms/step - loss: 0.1170 - val_loss: 0.1118\n",
      "Epoch 20/100\n",
      "60000/60000 [==============================] - 298s 5ms/step - loss: 0.1196 - val_loss: 0.1096\n",
      "Epoch 21/100\n",
      "60000/60000 [==============================] - 297s 5ms/step - loss: 0.1156 - val_loss: 0.1139\n",
      "Epoch 22/100\n",
      "60000/60000 [==============================] - 296s 5ms/step - loss: 0.1175 - val_loss: 0.1201\n",
      "Epoch 23/100\n",
      "60000/60000 [==============================] - 298s 5ms/step - loss: 0.1162 - val_loss: 0.1150\n",
      "Epoch 24/100\n",
      "60000/60000 [==============================] - 298s 5ms/step - loss: 0.1160 - val_loss: 0.1145\n",
      "Epoch 25/100\n",
      "60000/60000 [==============================] - 300s 5ms/step - loss: 0.1160 - val_loss: 0.1121\n",
      "Epoch 26/100\n",
      "60000/60000 [==============================] - 299s 5ms/step - loss: 0.1157 - val_loss: 0.1178\n",
      "Epoch 27/100\n",
      "60000/60000 [==============================] - 300s 5ms/step - loss: 0.1166 - val_loss: 0.1145\n",
      "Epoch 28/100\n",
      "60000/60000 [==============================] - 302s 5ms/step - loss: 0.1157 - val_loss: 0.1115\n",
      "Epoch 29/100\n",
      "60000/60000 [==============================] - 302s 5ms/step - loss: 0.1151 - val_loss: 0.1168\n",
      "Epoch 30/100\n",
      "60000/60000 [==============================] - 297s 5ms/step - loss: 0.1153 - val_loss: 0.1209\n",
      "Epoch 31/100\n",
      "60000/60000 [==============================] - 299s 5ms/step - loss: 0.1158 - val_loss: 0.1101\n",
      "Epoch 32/100\n",
      "60000/60000 [==============================] - 299s 5ms/step - loss: 0.1146 - val_loss: 0.1158\n",
      "Epoch 33/100\n",
      "60000/60000 [==============================] - 298s 5ms/step - loss: 0.1150 - val_loss: 0.1090\n",
      "Epoch 34/100\n",
      "60000/60000 [==============================] - 298s 5ms/step - loss: 0.1146 - val_loss: 0.1139\n",
      "Epoch 35/100\n",
      "60000/60000 [==============================] - 299s 5ms/step - loss: 0.1148 - val_loss: 0.1094\n",
      "Epoch 36/100\n",
      "60000/60000 [==============================] - 297s 5ms/step - loss: 0.1150 - val_loss: 0.1118\n",
      "Epoch 37/100\n",
      "60000/60000 [==============================] - 298s 5ms/step - loss: 0.1143 - val_loss: 0.1142\n",
      "Epoch 38/100\n",
      "60000/60000 [==============================] - 299s 5ms/step - loss: 0.1228 - val_loss: 0.1149\n",
      "Epoch 39/100\n",
      "60000/60000 [==============================] - 299s 5ms/step - loss: 0.1147 - val_loss: 0.1111\n",
      "Epoch 40/100\n",
      "60000/60000 [==============================] - 299s 5ms/step - loss: 0.1149 - val_loss: 0.1124\n",
      "Epoch 41/100\n",
      "60000/60000 [==============================] - 299s 5ms/step - loss: 0.1152 - val_loss: 0.1272\n",
      "Epoch 42/100\n",
      "60000/60000 [==============================] - 298s 5ms/step - loss: 0.1147 - val_loss: 0.1086\n",
      "Epoch 43/100\n",
      "60000/60000 [==============================] - 298s 5ms/step - loss: 0.1309 - val_loss: 0.1108\n",
      "Epoch 44/100\n",
      "60000/60000 [==============================] - 298s 5ms/step - loss: 0.1147 - val_loss: 0.1087\n",
      "Epoch 45/100\n",
      "60000/60000 [==============================] - 298s 5ms/step - loss: 0.1145 - val_loss: 0.1078\n",
      "Epoch 46/100\n",
      "60000/60000 [==============================] - 302s 5ms/step - loss: 0.1143 - val_loss: 0.1105\n",
      "Epoch 47/100\n",
      "60000/60000 [==============================] - 300s 5ms/step - loss: 0.1146 - val_loss: 0.1130\n",
      "Epoch 48/100\n",
      "60000/60000 [==============================] - 302s 5ms/step - loss: 0.1143 - val_loss: 0.1172\n",
      "Epoch 49/100\n",
      "60000/60000 [==============================] - 301s 5ms/step - loss: 0.1221 - val_loss: 0.1165\n",
      "Epoch 50/100\n",
      "60000/60000 [==============================] - 301s 5ms/step - loss: 0.1135 - val_loss: 0.1090\n",
      "Epoch 51/100\n",
      "60000/60000 [==============================] - 301s 5ms/step - loss: 0.1540 - val_loss: 0.1203\n",
      "Epoch 52/100\n",
      "60000/60000 [==============================] - 303s 5ms/step - loss: 0.1174 - val_loss: 0.1133\n",
      "Epoch 53/100\n",
      "60000/60000 [==============================] - 301s 5ms/step - loss: 0.1169 - val_loss: 0.1130\n",
      "Epoch 54/100\n",
      "60000/60000 [==============================] - 298s 5ms/step - loss: 0.1329 - val_loss: 0.1340\n",
      "Epoch 55/100\n",
      "60000/60000 [==============================] - 298s 5ms/step - loss: 0.1168 - val_loss: 0.1107\n",
      "Epoch 56/100\n",
      "60000/60000 [==============================] - 298s 5ms/step - loss: 0.1171 - val_loss: 0.1308\n",
      "Epoch 57/100\n",
      "60000/60000 [==============================] - 298s 5ms/step - loss: 0.1164 - val_loss: 0.1155\n",
      "Epoch 58/100\n",
      "60000/60000 [==============================] - 299s 5ms/step - loss: 0.1455 - val_loss: 0.1206\n",
      "Epoch 59/100\n",
      "60000/60000 [==============================] - 299s 5ms/step - loss: 0.1202 - val_loss: 0.1273\n",
      "Epoch 60/100\n",
      "60000/60000 [==============================] - 300s 5ms/step - loss: 0.1185 - val_loss: 0.1174\n",
      "Epoch 61/100\n",
      "60000/60000 [==============================] - 298s 5ms/step - loss: 0.1262 - val_loss: 0.1121\n",
      "Epoch 62/100\n",
      "60000/60000 [==============================] - 300s 5ms/step - loss: 0.1176 - val_loss: 0.1172\n",
      "Epoch 63/100\n",
      "60000/60000 [==============================] - 299s 5ms/step - loss: 0.1180 - val_loss: 0.1148\n",
      "Epoch 64/100\n",
      "60000/60000 [==============================] - 300s 5ms/step - loss: 0.1176 - val_loss: 0.1108\n",
      "Epoch 65/100\n",
      "60000/60000 [==============================] - 299s 5ms/step - loss: 0.1197 - val_loss: 0.1099\n",
      "Epoch 66/100\n",
      "60000/60000 [==============================] - 298s 5ms/step - loss: 0.1445 - val_loss: 0.1616\n",
      "Epoch 67/100\n",
      "60000/60000 [==============================] - 298s 5ms/step - loss: 0.1714 - val_loss: 0.1298\n",
      "Epoch 68/100\n",
      "60000/60000 [==============================] - 300s 5ms/step - loss: 0.1237 - val_loss: 0.1104\n",
      "Epoch 69/100\n",
      "60000/60000 [==============================] - 299s 5ms/step - loss: 0.1300 - val_loss: 0.1146\n",
      "Epoch 70/100\n",
      "60000/60000 [==============================] - 300s 5ms/step - loss: 0.1183 - val_loss: 0.1127\n",
      "Epoch 71/100\n",
      "60000/60000 [==============================] - 300s 5ms/step - loss: 0.1169 - val_loss: 0.1135\n",
      "Epoch 72/100\n",
      "60000/60000 [==============================] - 300s 5ms/step - loss: 0.1177 - val_loss: 0.1146\n",
      "Epoch 73/100\n",
      "60000/60000 [==============================] - 299s 5ms/step - loss: 0.1226 - val_loss: 0.1163\n",
      "Epoch 74/100\n",
      "60000/60000 [==============================] - 300s 5ms/step - loss: 0.8547 - val_loss: 2.1359\n",
      "Epoch 75/100\n",
      "60000/60000 [==============================] - 302s 5ms/step - loss: 2.1060 - val_loss: 2.1359\n",
      "Epoch 76/100\n",
      "60000/60000 [==============================] - 298s 5ms/step - loss: 2.1060 - val_loss: 2.1359\n",
      "Epoch 77/100\n",
      "60000/60000 [==============================] - 298s 5ms/step - loss: 2.1060 - val_loss: 2.1359\n",
      "Epoch 78/100\n",
      "60000/60000 [==============================] - 293s 5ms/step - loss: 2.1060 - val_loss: 2.1359\n",
      "Epoch 79/100\n",
      "60000/60000 [==============================] - 294s 5ms/step - loss: 2.1060 - val_loss: 2.1359\n",
      "Epoch 80/100\n",
      "60000/60000 [==============================] - 294s 5ms/step - loss: 2.1060 - val_loss: 2.1359\n",
      "Epoch 81/100\n",
      "60000/60000 [==============================] - 294s 5ms/step - loss: 2.1060 - val_loss: 2.1359\n",
      "Epoch 82/100\n",
      "60000/60000 [==============================] - 293s 5ms/step - loss: 2.1060 - val_loss: 2.1359\n",
      "Epoch 83/100\n",
      "60000/60000 [==============================] - 294s 5ms/step - loss: 2.1060 - val_loss: 2.1359\n",
      "Epoch 84/100\n",
      "60000/60000 [==============================] - 295s 5ms/step - loss: 2.1060 - val_loss: 2.1359\n",
      "Epoch 85/100\n",
      "60000/60000 [==============================] - 298s 5ms/step - loss: 2.1060 - val_loss: 2.1359\n",
      "Epoch 86/100\n",
      "60000/60000 [==============================] - 296s 5ms/step - loss: 2.1060 - val_loss: 2.1359\n",
      "Epoch 87/100\n",
      "60000/60000 [==============================] - 298s 5ms/step - loss: 2.1060 - val_loss: 2.1359\n",
      "Epoch 88/100\n",
      "60000/60000 [==============================] - 298s 5ms/step - loss: 2.1060 - val_loss: 2.1359\n",
      "Epoch 89/100\n",
      "60000/60000 [==============================] - 300s 5ms/step - loss: 2.1060 - val_loss: 2.1359\n",
      "Epoch 90/100\n",
      "60000/60000 [==============================] - 296s 5ms/step - loss: 2.1060 - val_loss: 2.1359\n",
      "Epoch 91/100\n",
      "60000/60000 [==============================] - 298s 5ms/step - loss: 2.1060 - val_loss: 2.1359\n",
      "Epoch 92/100\n",
      "60000/60000 [==============================] - 298s 5ms/step - loss: 2.1060 - val_loss: 2.1359\n",
      "Epoch 93/100\n",
      "60000/60000 [==============================] - 298s 5ms/step - loss: 2.1060 - val_loss: 2.1359\n",
      "Epoch 94/100\n",
      "60000/60000 [==============================] - 300s 5ms/step - loss: 2.1060 - val_loss: 2.1359\n",
      "Epoch 95/100\n",
      "60000/60000 [==============================] - 298s 5ms/step - loss: 2.1060 - val_loss: 2.1359\n",
      "Epoch 96/100\n",
      "60000/60000 [==============================] - 294s 5ms/step - loss: 2.1060 - val_loss: 2.1359\n",
      "Epoch 97/100\n",
      "60000/60000 [==============================] - 296s 5ms/step - loss: 2.1060 - val_loss: 2.1359\n",
      "Epoch 98/100\n",
      "60000/60000 [==============================] - 295s 5ms/step - loss: 2.1060 - val_loss: 2.1359\n",
      "Epoch 99/100\n",
      "60000/60000 [==============================] - 297s 5ms/step - loss: 2.1060 - val_loss: 2.1359\n",
      "Epoch 100/100\n",
      "60000/60000 [==============================] - 294s 5ms/step - loss: 2.1060 - val_loss: 2.1359\n"
     ]
    },
    {
     "data": {
      "text/plain": [
       "<keras.callbacks.History at 0x2b188721080>"
      ]
     },
     "execution_count": 13,
     "metadata": {},
     "output_type": "execute_result"
    }
   ],
   "source": [
    "from keras.callbacks import TensorBoard\n",
    "autoencoder.fit(x_train_noisy, x_train,\n",
    "                epochs=100,\n",
    "                batch_size=128,\n",
    "                shuffle=True,\n",
    "                validation_data=(x_test_noisy, x_test),\n",
    "                callbacks=[TensorBoard(log_dir='denoisy', histogram_freq=0, write_graph=False)])"
   ]
  },
  {
   "cell_type": "markdown",
   "metadata": {},
   "source": [
    "### Presenting the denoised images:"
   ]
  },
  {
   "cell_type": "code",
   "execution_count": 28,
   "metadata": {},
   "outputs": [
    {
     "data": {
      "image/png": "[encoded data removed]",
      "text/plain": [
       "<matplotlib.figure.Figure at 0x15f98ff4470>"
      ]
     },
     "metadata": {},
     "output_type": "display_data"
    }
   ],
   "source": [
    "decoded_imgs = autoencoder.predict(x_test)\n",
    "\n",
    "\n",
    "# use Matplotlib\n",
    "import matplotlib.pyplot as plt\n",
    "%matplotlib inline\n",
    "n = 10  # how many digits we will display\n",
    "plt.figure(figsize=(20, 4))\n",
    "for i in range(n):\n",
    "    # display original noisy images\n",
    "    ax = plt.subplot(2, n, i + 1)\n",
    "    plt.imshow(x_test_noisy[i].reshape(28, 28))\n",
    "    plt.gray()\n",
    "    ax.get_xaxis().set_visible(False)\n",
    "    ax.get_yaxis().set_visible(False)\n",
    "\n",
    "    # display reconstruction\n",
    "    ax = plt.subplot(2, n, i + 1 + n)\n",
    "    plt.imshow(decoded_imgs[i].reshape(28, 28))\n",
    "    plt.gray()\n",
    "    ax.get_xaxis().set_visible(False)\n",
    "    ax.get_yaxis().set_visible(False)\n",
    "plt.show()"
   ]
  }
 ],
 "metadata": {
  "kernelspec": {
   "display_name": "Python 3",
   "language": "python",
   "name": "python3"
  },
  "language_info": {
   "codemirror_mode": {
    "name": "ipython",
    "version": 3
   },
   "file_extension": ".py",
   "mimetype": "text/x-python",
   "name": "python",
   "nbconvert_exporter": "python",
   "pygments_lexer": "ipython3",
   "version": "3.7.2"
  }
 },
 "nbformat": 4,
 "nbformat_minor": 2
}
